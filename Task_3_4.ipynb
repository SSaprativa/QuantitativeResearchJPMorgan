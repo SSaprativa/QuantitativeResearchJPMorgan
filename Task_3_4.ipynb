{
  "nbformat": 4,
  "nbformat_minor": 0,
  "metadata": {
    "colab": {
      "provenance": []
    },
    "kernelspec": {
      "name": "python3",
      "display_name": "Python 3"
    },
    "language_info": {
      "name": "python"
    }
  },
  "cells": [
    {
      "cell_type": "markdown",
      "source": [
        "#Credit Risk Analysis"
      ],
      "metadata": {
        "id": "0Mu754BRBVVl"
      }
    },
    {
      "cell_type": "code",
      "execution_count": 1,
      "metadata": {
        "id": "NdReGvw52b9b"
      },
      "outputs": [],
      "source": [
        "from sklearn.linear_model import LogisticRegression\n",
        "from sklearn import metrics\n",
        "import numpy as np\n",
        "import pandas as pd"
      ]
    },
    {
      "cell_type": "code",
      "source": [
        "df = pd.read_csv('Task 3 and 4_Loan_Data.csv')"
      ],
      "metadata": {
        "id": "_AaaGDlN2sAV"
      },
      "execution_count": 3,
      "outputs": []
    },
    {
      "cell_type": "code",
      "source": [
        "features = ['credit_lines_outstanding', 'debt_to_income', 'payment_to_income', 'years_employed', 'fico_score']"
      ],
      "metadata": {
        "id": "5gAN2ByU2wOj"
      },
      "execution_count": 4,
      "outputs": []
    },
    {
      "cell_type": "code",
      "source": [
        "df['payment_to_income'] = df['loan_amt_outstanding'] / df['income']\n",
        "df['debt_to_income'] = df['total_debt_outstanding'] / df['income']"
      ],
      "metadata": {
        "id": "wzX3RxUX7lhT"
      },
      "execution_count": 5,
      "outputs": []
    },
    {
      "cell_type": "code",
      "source": [
        "clf = LogisticRegression(random_state=0, solver='liblinear', tol=1e-5, max_iter=10000).fit(df[features], df['default'])"
      ],
      "metadata": {
        "id": "-NACfqt89UyT"
      },
      "execution_count": 9,
      "outputs": []
    },
    {
      "cell_type": "code",
      "source": [
        "y_pred = clf.predict(df[features])"
      ],
      "metadata": {
        "id": "BTjBX37D9fen"
      },
      "execution_count": 11,
      "outputs": []
    },
    {
      "cell_type": "code",
      "source": [
        "fpr, tpr, thresholds = metrics.roc_curve(df['default'], y_pred)\n",
        "print((1.0*(abs(df['default']-y_pred)).sum()) / len(df))\n",
        "print(metrics.auc(fpr, tpr))"
      ],
      "metadata": {
        "colab": {
          "base_uri": "https://localhost:8080/"
        },
        "id": "Yye_9TMg9wjA",
        "outputId": "9674742f-b4d7-4b3a-c8d1-0dabdd3000bb"
      },
      "execution_count": 12,
      "outputs": [
        {
          "output_type": "stream",
          "name": "stdout",
          "text": [
            "0.0037\n",
            "0.9925106069101026\n"
          ]
        }
      ]
    },
    {
      "cell_type": "markdown",
      "source": [
        "#Bucket FICO scores"
      ],
      "metadata": {
        "id": "ftAZRA3IDJM8"
      }
    },
    {
      "cell_type": "code",
      "source": [
        "x = df['default'].to_list()\n",
        "y = df['fico_score'].to_list()\n",
        "n = len(x)\n",
        "print (len(x), len(y))"
      ],
      "metadata": {
        "colab": {
          "base_uri": "https://localhost:8080/"
        },
        "id": "-l8kC8jp-OXX",
        "outputId": "2757053a-f2fc-4bd3-8580-86120a981676"
      },
      "execution_count": 14,
      "outputs": [
        {
          "output_type": "stream",
          "name": "stdout",
          "text": [
            "10000 10000\n"
          ]
        }
      ]
    },
    {
      "cell_type": "code",
      "source": [
        "default = [0 for i in range(851)]\n",
        "total = [0 for i in range(851)]"
      ],
      "metadata": {
        "id": "OHGtYXIuDN6E"
      },
      "execution_count": 15,
      "outputs": []
    },
    {
      "cell_type": "code",
      "source": [
        "for i in range(n):\n",
        "    y[i] = int(y[i])\n",
        "    default[y[i]-300] += x[i]\n",
        "    total[y[i]-300] += 1"
      ],
      "metadata": {
        "id": "ilOhhxIXDe_l"
      },
      "execution_count": 16,
      "outputs": []
    },
    {
      "cell_type": "code",
      "source": [
        "for i in range(0, 551):\n",
        "    default[i] += default[i-1]\n",
        "    total[i] += total[i-1]"
      ],
      "metadata": {
        "id": "kYTUfGeVD0d5"
      },
      "execution_count": 18,
      "outputs": []
    },
    {
      "cell_type": "code",
      "source": [
        "def log_likelihood(n, k):\n",
        "    p = k/n\n",
        "    if (p==0 or p==1):\n",
        "        return 0\n",
        "    return k*np.log(p)+ (n-k)*np.log(1-p)"
      ],
      "metadata": {
        "id": "_uU_olwTD22p"
      },
      "execution_count": 19,
      "outputs": []
    },
    {
      "cell_type": "code",
      "source": [
        "r = 10\n",
        "dp = [[[-10**18, 0] for i in range(551)] for j in range(r+1)]"
      ],
      "metadata": {
        "id": "QFD8NlVgGEJ7"
      },
      "execution_count": 20,
      "outputs": []
    },
    {
      "cell_type": "code",
      "source": [
        "for i in range(r+1):\n",
        "    for j in range(551):\n",
        "        if (i==0):\n",
        "            dp[i][j][0] = 0\n",
        "        else:\n",
        "            for k in range(j):\n",
        "                if (total[j]==total[k]):\n",
        "                    continue\n",
        "                if (i==1):\n",
        "                    dp[i][j][0] = log_likelihood(total[j], default[j])\n",
        "                else:\n",
        "                    if (dp[i][j][0] < (dp[i-1][k][0] + log_likelihood(total[j]-total[k], default[j] - default[k]))):\n",
        "                        dp[i][j][0] = log_likelihood(total[j]-total[k], default[j]-default[k]) + dp[i-1][k][0]\n",
        "                        dp[i][j][1] = k\n",
        "\n",
        "print (round(dp[r][550][0], 4))"
      ],
      "metadata": {
        "colab": {
          "base_uri": "https://localhost:8080/"
        },
        "id": "jMy6fvU8FAbe",
        "outputId": "96585f55-2cbe-49f3-b3c8-ab3d1c58ab7d"
      },
      "execution_count": 21,
      "outputs": [
        {
          "output_type": "stream",
          "name": "stdout",
          "text": [
            "-4217.8245\n"
          ]
        }
      ]
    },
    {
      "cell_type": "code",
      "source": [
        "k = 550\n",
        "l = []\n",
        "while r >= 0:\n",
        "    l.append(k+300)\n",
        "    k = dp[r][k][1]\n",
        "    r -= 1\n",
        "\n",
        "print(l)"
      ],
      "metadata": {
        "colab": {
          "base_uri": "https://localhost:8080/"
        },
        "id": "ud6SNyFhGFO_",
        "outputId": "2fd9e537-b5fe-4379-ba47-10c05fd41120"
      },
      "execution_count": 22,
      "outputs": [
        {
          "output_type": "stream",
          "name": "stdout",
          "text": [
            "[850, 753, 752, 732, 696, 649, 611, 580, 552, 520, 300]\n"
          ]
        }
      ]
    },
    {
      "cell_type": "code",
      "source": [],
      "metadata": {
        "id": "oEREbiqPGLpw"
      },
      "execution_count": null,
      "outputs": []
    }
  ]
}